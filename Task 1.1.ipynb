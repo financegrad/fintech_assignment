{
 "cells": [
  {
   "cell_type": "code",
   "execution_count": 5,
   "id": "1e9ec2ce",
   "metadata": {},
   "outputs": [],
   "source": [
    "import json\n",
    "import requests\n",
    "import datetime"
   ]
  },
  {
   "cell_type": "code",
   "execution_count": 6,
   "id": "1574b35b",
   "metadata": {},
   "outputs": [
    {
     "name": "stdout",
     "output_type": "stream",
     "text": [
      "277448\n",
      "27-09-2022 13:33:39\n",
      "0.33298939999999977\n",
      "12553\n",
      "qdlnk\n"
     ]
    }
   ],
   "source": [
    "answer = requests.get(\"https://api.whatsonchain.com/v1/bsv/main/block/height/758992\")\n",
    "genesis_block = json.loads(answer.text)\n",
    "timestamp = datetime.datetime.fromtimestamp(genesis_block['time'])\n",
    "print(genesis_block['txcount'])\n",
    "print(timestamp.strftime('%d-%m-%Y %H:%M:%S'))\n",
    "print(genesis_block['totalFees'])\n",
    "print(genesis_block['confirmations'])\n",
    "print(genesis_block['miner'])"
   ]
  },
  {
   "cell_type": "code",
   "execution_count": null,
   "id": "da290c4a",
   "metadata": {},
   "outputs": [],
   "source": []
  }
 ],
 "metadata": {
  "kernelspec": {
   "display_name": "Python 3 (ipykernel)",
   "language": "python",
   "name": "python3"
  },
  "language_info": {
   "codemirror_mode": {
    "name": "ipython",
    "version": 3
   },
   "file_extension": ".py",
   "mimetype": "text/x-python",
   "name": "python",
   "nbconvert_exporter": "python",
   "pygments_lexer": "ipython3",
   "version": "3.9.13"
  }
 },
 "nbformat": 4,
 "nbformat_minor": 5
}
